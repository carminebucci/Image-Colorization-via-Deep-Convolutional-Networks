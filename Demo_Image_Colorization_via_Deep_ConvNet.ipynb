{
  "nbformat": 4,
  "nbformat_minor": 0,
  "metadata": {
    "colab": {
      "name": "Demo - Image Colorization via Deep ConvNet.ipynb",
      "provenance": [],
      "collapsed_sections": [],
      "toc_visible": true,
      "authorship_tag": "ABX9TyPKUa9uelX2w8ktG4XQ6wjI",
      "include_colab_link": true
    },
    "kernelspec": {
      "name": "python3",
      "display_name": "Python 3"
    }
  },
  "cells": [
    {
      "cell_type": "markdown",
      "metadata": {
        "id": "view-in-github",
        "colab_type": "text"
      },
      "source": [
        "<a href=\"https://colab.research.google.com/github/carminebucci/Image-Colorization-via-Deep-Convolutional-Networks/blob/master/Demo_Image_Colorization_via_Deep_ConvNet.ipynb\" target=\"_parent\"><img src=\"https://colab.research.google.com/assets/colab-badge.svg\" alt=\"Open In Colab\"/></a>"
      ]
    },
    {
      "cell_type": "markdown",
      "metadata": {
        "id": "RE0lJbdNrtXe",
        "colab_type": "text"
      },
      "source": [
        "# Image Colorization via Deep Convolutional Networks"
      ]
    },
    {
      "cell_type": "markdown",
      "metadata": {
        "id": "RD6kgMBP51A0",
        "colab_type": "text"
      },
      "source": [
        "This is the implementation in Keras of the system develeped by Zhang et al. in their research http://richzhang.github.io/colorization/\n",
        "\n",
        "The report produced is available here: http://tiny.cc/2j8alz"
      ]
    },
    {
      "cell_type": "markdown",
      "metadata": {
        "id": "BgcjDjfGsEJk",
        "colab_type": "text"
      },
      "source": [
        "### **Get the model.** Download the colorization model and the pretreined weight."
      ]
    },
    {
      "cell_type": "markdown",
      "metadata": {
        "id": "vMg7ElBVry8U",
        "colab_type": "text"
      },
      "source": [
        "Download the model from Github "
      ]
    },
    {
      "cell_type": "code",
      "metadata": {
        "id": "yxSdNrcOvKRS",
        "colab_type": "code",
        "colab": {}
      },
      "source": [
        "!git clone https://github.com/carminebucci/Image-Colorization-via-Deep-Convolutional-Networks.git"
      ],
      "execution_count": 0,
      "outputs": []
    },
    {
      "cell_type": "markdown",
      "metadata": {
        "id": "CjSLqzAVsnr8",
        "colab_type": "text"
      },
      "source": [
        "Download the pretreined weight"
      ]
    },
    {
      "cell_type": "code",
      "metadata": {
        "id": "rMr0Kgfy6Azc",
        "colab_type": "code",
        "colab": {}
      },
      "source": [
        "!rm /content/Image-Colorization-via-Deep-Convolutional-Networks/data/util/colorization_release_v2_norot.h5\n",
        "!wget -P /content/Image-Colorization-via-Deep-Convolutional-Networks/data/util https://github.com/carminebucci/Image-Colorization-via-Deep-Convolutional-Networks/blob/master/data/util/colorization_release_v2_norot.h5?raw=true\n",
        "!mv /content/Image-Colorization-via-Deep-Convolutional-Networks/data/util/colorization_release_v2_norot.h5?raw=true /content/Image-Colorization-via-Deep-Convolutional-Networks/data/util/colorization_release_v2_norot.h5"
      ],
      "execution_count": 0,
      "outputs": []
    },
    {
      "cell_type": "markdown",
      "metadata": {
        "id": "Gcl93W5Wsuib",
        "colab_type": "text"
      },
      "source": [
        "Move to project directory"
      ]
    },
    {
      "cell_type": "code",
      "metadata": {
        "id": "prX2ZbunhlHn",
        "colab_type": "code",
        "colab": {}
      },
      "source": [
        "cd /content/Image-Colorization-via-Deep-Convolutional-Networks"
      ],
      "execution_count": 0,
      "outputs": []
    },
    {
      "cell_type": "markdown",
      "metadata": {
        "id": "6fn0fSX4s3Zl",
        "colab_type": "text"
      },
      "source": [
        "### **Colorization process.**"
      ]
    },
    {
      "cell_type": "markdown",
      "metadata": {
        "id": "y_upIiFvypUe",
        "colab_type": "text"
      },
      "source": [
        "Import all required libraries and files."
      ]
    },
    {
      "cell_type": "code",
      "metadata": {
        "id": "ZgyrOlh7ygam",
        "colab_type": "code",
        "colab": {}
      },
      "source": [
        "import warnings\n",
        "warnings.filterwarnings(\"ignore\")\n",
        "\n",
        "from os.path import join as pjoin\n",
        "from skimage.transform import resize\n",
        "from skimage.io import imread\n",
        "from skimage import color\n",
        "from matplotlib import pyplot as plt\n",
        "from kmodel2 import get_model\n",
        "\n",
        "import scipy.ndimage.interpolation as sni\n",
        "import numpy as np\n",
        "\n",
        "data_root = pjoin(\"data\")\n",
        "weights_fname  = pjoin(data_root, \"util\", \"colorization_release_v2_norot.h5\")\n",
        "ann_mean_fname = pjoin(data_root, \"util\", \"pts_in_hull.npy\")"
      ],
      "execution_count": 0,
      "outputs": []
    },
    {
      "cell_type": "markdown",
      "metadata": {
        "id": "wBPyRWgUy1Xs",
        "colab_type": "text"
      },
      "source": [
        "**Load the Model and Weights**"
      ]
    },
    {
      "cell_type": "code",
      "metadata": {
        "id": "G7LCUYGmyhhm",
        "colab_type": "code",
        "colab": {}
      },
      "source": [
        "net = get_model(weights_fname, pretrained = True)"
      ],
      "execution_count": 0,
      "outputs": []
    },
    {
      "cell_type": "code",
      "metadata": {
        "id": "Q6iOAO9pyhjt",
        "colab_type": "code",
        "colab": {}
      },
      "source": [
        "(H_in,  W_in)  = net.layers[0].input_shape[1:3] # get input shape\n",
        "(H_out, W_out) = net.layers[-1].output_shape[1:3] # get output shape\n",
        "\n",
        "print(\"Input dimensions of the model : {} x {}\".format(H_in, W_in))\n",
        "print(\"Output dimensions of the model:  {} x {}\".format(H_out, W_out))"
      ],
      "execution_count": 0,
      "outputs": []
    },
    {
      "cell_type": "markdown",
      "metadata": {
        "id": "ly3TTHAR1oA1",
        "colab_type": "text"
      },
      "source": [
        "**Annealed-Mean**"
      ]
    },
    {
      "cell_type": "code",
      "metadata": {
        "id": "UkJMJmTiyhl0",
        "colab_type": "code",
        "colab": {}
      },
      "source": [
        "pts_in_hull = np.load(ann_mean_fname) # load cluster centers\n",
        "W = net.layers[-1].get_weights()\n",
        "W[0][0,0,:,:] = pts_in_hull\n",
        "net.layers[-1].set_weights( W )\n",
        "print(\"Annealed-Mean Parameters populated\")"
      ],
      "execution_count": 0,
      "outputs": []
    },
    {
      "cell_type": "markdown",
      "metadata": {
        "id": "kfWJv0gu29H_",
        "colab_type": "text"
      },
      "source": [
        "**Loading the image.** Next, we need to load our image of choice. We will convert the image at its full resolution to Lab and keep it's L value; we will concatenate the network's output color to it! We then resize the image to the network input size, convert to Lab, and only keep the resized L, since network of course does not get any color inputs!"
      ]
    },
    {
      "cell_type": "code",
      "metadata": {
        "id": "Syi9Ol72yhn-",
        "colab_type": "code",
        "colab": {}
      },
      "source": [
        "img_fname  = pjoin(data_root, \"imgs\", \"img2.jpg\") #modify here to colorize other images\n",
        "img_rgb    = imread(img_fname)\n",
        "img_rgb_rs = resize(img_rgb,(H_in,W_in))\n",
        "img_lab, img_lab_rs = color.rgb2lab(img_rgb), color.rgb2lab(img_rgb_rs)\n",
        "img_l, img_l_rs   = img_lab[:,:,0], img_lab_rs[:,:,0] # pull out L channel"
      ],
      "execution_count": 0,
      "outputs": []
    },
    {
      "cell_type": "markdown",
      "metadata": {
        "id": "Riv_T0BL3WuF",
        "colab_type": "text"
      },
      "source": [
        "**Colorization time!** Now it is time to run the network. We subtract 50 from the L channel (for mean centering), push it into the network, and run a forward pass. Then, we take the output from class8_ab, resize it to the full resolution concatenate with the L channel, convert to rgb, and display the result."
      ]
    },
    {
      "cell_type": "code",
      "metadata": {
        "id": "bnd9ld0iyhqA",
        "colab_type": "code",
        "colab": {}
      },
      "source": [
        "# subtract 50 for mean-centering and forward the network\n",
        "X = np.zeros((1,H_in,W_in,1), dtype = np.float32)\n",
        "X[0,:,:,0] = img_l_rs - 50\n",
        "\n",
        "Y = net.predict(X)\n",
        "print(\"Y predicted\")"
      ],
      "execution_count": 0,
      "outputs": []
    },
    {
      "cell_type": "markdown",
      "metadata": {
        "id": "G0QPWRp01zA1",
        "colab_type": "text"
      },
      "source": [
        "**Predicted a and b channel.**"
      ]
    },
    {
      "cell_type": "code",
      "metadata": {
        "id": "gaw3dYF31rbQ",
        "colab_type": "code",
        "colab": {}
      },
      "source": [
        "ab_dec = Y[0] \n",
        "\n",
        "a = ab_dec[:,:,0]\n",
        "b = ab_dec[:,:,1]\n",
        "\n",
        "plt.figure(figsize=(24, 15))\n",
        "plt.figure()\n",
        "plt.subplot(121)\n",
        "plt.title(\"a\")\n",
        "plt.imshow(a)\n",
        "plt.subplot(122)\n",
        "plt.title(\"b\")\n",
        "plt.imshow(b)"
      ],
      "execution_count": 0,
      "outputs": []
    },
    {
      "cell_type": "markdown",
      "metadata": {
        "id": "SlfHwMLU5pEt",
        "colab_type": "text"
      },
      "source": [
        "Upsample to match size of original image L"
      ]
    },
    {
      "cell_type": "code",
      "metadata": {
        "id": "03M9GQ5JyhsK",
        "colab_type": "code",
        "colab": {}
      },
      "source": [
        "H_orig, W_orig = np.shape(img_rgb)[0], np.shape(img_rgb)[1]\n",
        "ab_dec_us = sni.zoom(ab_dec,(1.*H_orig/H_out,1.*W_orig/W_out,1))\n",
        "print(\"Shape of ab_dec_us   = {}\".format(np.shape(ab_dec_us)))\n",
        "\n",
        "img_lab_out = np.concatenate((img_l[:,:,np.newaxis],ab_dec_us),axis=2)\n",
        "img_rgb_out = (255*np.clip(color.lab2rgb(img_lab_out),0,1)).astype('uint8')\n",
        "print(\"Shape of img_rgb_out = {}\".format(np.shape(img_rgb_out)))"
      ],
      "execution_count": 0,
      "outputs": []
    },
    {
      "cell_type": "markdown",
      "metadata": {
        "id": "C41v881L6I91",
        "colab_type": "text"
      },
      "source": [
        "Create grayscale version of image (just for displaying).\n"
      ]
    },
    {
      "cell_type": "code",
      "metadata": {
        "id": "NoO-EeWb4L9U",
        "colab_type": "code",
        "colab": {}
      },
      "source": [
        "img_lab_bw = img_lab.copy()\n",
        "img_lab_bw[:,:,1:] = 0\n",
        "img_rgb_bw = color.lab2rgb(img_lab_bw)"
      ],
      "execution_count": 0,
      "outputs": []
    },
    {
      "cell_type": "markdown",
      "metadata": {
        "id": "2teDo88K4JyO",
        "colab_type": "text"
      },
      "source": [
        " **Plot the result** compared with the original, the grayscale image, and the L channel."
      ]
    },
    {
      "cell_type": "code",
      "metadata": {
        "id": "daLTTuCSMbnB",
        "colab_type": "code",
        "colab": {}
      },
      "source": [
        "plt.figure(figsize=(24, 15))\n",
        "plt.subplot(221)\n",
        "plt.title(\"RGB Source Image\")\n",
        "plt.imshow(img_rgb)\n",
        "plt.subplot(222)\n",
        "plt.title(\"L-based Gray Source Image\")\n",
        "plt.imshow(img_rgb_bw)\n",
        "plt.subplot(223)\n",
        "plt.title(\"L src channel (Net Input)\")\n",
        "plt.imshow(img_l)\n",
        "plt.subplot(224)\n",
        "plt.title(\"L + predicted ab (Net Output) 2 RGB\")\n",
        "plt.imshow(img_rgb_out)"
      ],
      "execution_count": 0,
      "outputs": []
    }
  ]
}